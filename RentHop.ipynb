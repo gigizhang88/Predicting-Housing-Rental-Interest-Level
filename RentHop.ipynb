{
 "cells": [
  {
   "cell_type": "code",
   "execution_count": 3,
   "metadata": {
    "collapsed": false
   },
   "outputs": [
    {
     "name": "stdout",
     "output_type": "stream",
     "text": [
      "RentHop.ipynb\n",
      "test.json\n",
      "train.json\n",
      "\n"
     ]
    }
   ],
   "source": [
    "import numpy as np # linear algebra\n",
    "import pandas as pd # data processing, CSV file I/O (e.g. pd.read_csv)\n",
    "\n",
    "\n",
    "# Input data files are available in the \"../RentHop\" directory.\n",
    "\n",
    "from subprocess import check_output\n",
    "print(check_output([\"ls\", \"../RentHop\"]).decode(\"utf8\"))\n",
    "\n",
    "# Any results you write to the the current directory are saved as output."
   ]
  },
  {
   "cell_type": "code",
   "execution_count": 5,
   "metadata": {
    "collapsed": false
   },
   "outputs": [],
   "source": [
    "from sklearn.ensemble import RandomForestClassifier\n",
    "from sklearn.model_selection import train_test_split\n",
    "from sklearn import svm\n",
    "from sklearn.metrics import log_loss\n",
    "from nltk import word_tokenize\n",
    "from nltk import FreqDist\n",
    "from nltk.corpus import stopwords\n",
    "import string\n",
    "import seaborn as sns\n",
    "import matplotlib.pyplot as plt\n",
    "from geopy.distance import vincenty"
   ]
  },
  {
   "cell_type": "code",
   "execution_count": 6,
   "metadata": {
    "collapsed": false
   },
   "outputs": [],
   "source": [
    "df = pd.read_json(open(\"../RentHop/train.json\",\"r\"))"
   ]
  },
  {
   "cell_type": "code",
   "execution_count": 7,
   "metadata": {
    "collapsed": false
   },
   "outputs": [
    {
     "data": {
      "text/html": [
       "<div>\n",
       "<table border=\"1\" class=\"dataframe\">\n",
       "  <thead>\n",
       "    <tr style=\"text-align: right;\">\n",
       "      <th></th>\n",
       "      <th>bathrooms</th>\n",
       "      <th>bedrooms</th>\n",
       "      <th>building_id</th>\n",
       "      <th>created</th>\n",
       "      <th>description</th>\n",
       "      <th>display_address</th>\n",
       "      <th>features</th>\n",
       "      <th>interest_level</th>\n",
       "      <th>latitude</th>\n",
       "      <th>listing_id</th>\n",
       "      <th>longitude</th>\n",
       "      <th>manager_id</th>\n",
       "      <th>photos</th>\n",
       "      <th>price</th>\n",
       "      <th>street_address</th>\n",
       "    </tr>\n",
       "  </thead>\n",
       "  <tbody>\n",
       "    <tr>\n",
       "      <th>10</th>\n",
       "      <td>1.5</td>\n",
       "      <td>3</td>\n",
       "      <td>53a5b119ba8f7b61d4e010512e0dfc85</td>\n",
       "      <td>2016-06-24 07:54:24</td>\n",
       "      <td>A Brand New 3 Bedroom 1.5 bath ApartmentEnjoy ...</td>\n",
       "      <td>Metropolitan Avenue</td>\n",
       "      <td>[]</td>\n",
       "      <td>medium</td>\n",
       "      <td>40.7145</td>\n",
       "      <td>7211212</td>\n",
       "      <td>-73.9425</td>\n",
       "      <td>5ba989232d0489da1b5f2c45f6688adc</td>\n",
       "      <td>[https://photos.renthop.com/2/7211212_1ed4542e...</td>\n",
       "      <td>3000</td>\n",
       "      <td>792 Metropolitan Avenue</td>\n",
       "    </tr>\n",
       "    <tr>\n",
       "      <th>10000</th>\n",
       "      <td>1.0</td>\n",
       "      <td>2</td>\n",
       "      <td>c5c8a357cba207596b04d1afd1e4f130</td>\n",
       "      <td>2016-06-12 12:19:27</td>\n",
       "      <td></td>\n",
       "      <td>Columbus Avenue</td>\n",
       "      <td>[Doorman, Elevator, Fitness Center, Cats Allow...</td>\n",
       "      <td>low</td>\n",
       "      <td>40.7947</td>\n",
       "      <td>7150865</td>\n",
       "      <td>-73.9667</td>\n",
       "      <td>7533621a882f71e25173b27e3139d83d</td>\n",
       "      <td>[https://photos.renthop.com/2/7150865_be3306c5...</td>\n",
       "      <td>5465</td>\n",
       "      <td>808 Columbus Avenue</td>\n",
       "    </tr>\n",
       "    <tr>\n",
       "      <th>100004</th>\n",
       "      <td>1.0</td>\n",
       "      <td>1</td>\n",
       "      <td>c3ba40552e2120b0acfc3cb5730bb2aa</td>\n",
       "      <td>2016-04-17 03:26:41</td>\n",
       "      <td>Top Top West Village location, beautiful Pre-w...</td>\n",
       "      <td>W 13 Street</td>\n",
       "      <td>[Laundry In Building, Dishwasher, Hardwood Flo...</td>\n",
       "      <td>high</td>\n",
       "      <td>40.7388</td>\n",
       "      <td>6887163</td>\n",
       "      <td>-74.0018</td>\n",
       "      <td>d9039c43983f6e564b1482b273bd7b01</td>\n",
       "      <td>[https://photos.renthop.com/2/6887163_de85c427...</td>\n",
       "      <td>2850</td>\n",
       "      <td>241 W 13 Street</td>\n",
       "    </tr>\n",
       "    <tr>\n",
       "      <th>100007</th>\n",
       "      <td>1.0</td>\n",
       "      <td>1</td>\n",
       "      <td>28d9ad350afeaab8027513a3e52ac8d5</td>\n",
       "      <td>2016-04-18 02:22:02</td>\n",
       "      <td>Building Amenities - Garage - Garden - fitness...</td>\n",
       "      <td>East 49th Street</td>\n",
       "      <td>[Hardwood Floors, No Fee]</td>\n",
       "      <td>low</td>\n",
       "      <td>40.7539</td>\n",
       "      <td>6888711</td>\n",
       "      <td>-73.9677</td>\n",
       "      <td>1067e078446a7897d2da493d2f741316</td>\n",
       "      <td>[https://photos.renthop.com/2/6888711_6e660cee...</td>\n",
       "      <td>3275</td>\n",
       "      <td>333 East 49th Street</td>\n",
       "    </tr>\n",
       "    <tr>\n",
       "      <th>100013</th>\n",
       "      <td>1.0</td>\n",
       "      <td>4</td>\n",
       "      <td>0</td>\n",
       "      <td>2016-04-28 01:32:41</td>\n",
       "      <td>Beautifully renovated 3 bedroom flex 4 bedroom...</td>\n",
       "      <td>West 143rd Street</td>\n",
       "      <td>[Pre-War]</td>\n",
       "      <td>low</td>\n",
       "      <td>40.8241</td>\n",
       "      <td>6934781</td>\n",
       "      <td>-73.9493</td>\n",
       "      <td>98e13ad4b495b9613cef886d79a6291f</td>\n",
       "      <td>[https://photos.renthop.com/2/6934781_1fa4b41a...</td>\n",
       "      <td>3350</td>\n",
       "      <td>500 West 143rd Street</td>\n",
       "    </tr>\n",
       "  </tbody>\n",
       "</table>\n",
       "</div>"
      ],
      "text/plain": [
       "        bathrooms  bedrooms                       building_id  \\\n",
       "10            1.5         3  53a5b119ba8f7b61d4e010512e0dfc85   \n",
       "10000         1.0         2  c5c8a357cba207596b04d1afd1e4f130   \n",
       "100004        1.0         1  c3ba40552e2120b0acfc3cb5730bb2aa   \n",
       "100007        1.0         1  28d9ad350afeaab8027513a3e52ac8d5   \n",
       "100013        1.0         4                                 0   \n",
       "\n",
       "                    created  \\\n",
       "10      2016-06-24 07:54:24   \n",
       "10000   2016-06-12 12:19:27   \n",
       "100004  2016-04-17 03:26:41   \n",
       "100007  2016-04-18 02:22:02   \n",
       "100013  2016-04-28 01:32:41   \n",
       "\n",
       "                                              description  \\\n",
       "10      A Brand New 3 Bedroom 1.5 bath ApartmentEnjoy ...   \n",
       "10000                                                       \n",
       "100004  Top Top West Village location, beautiful Pre-w...   \n",
       "100007  Building Amenities - Garage - Garden - fitness...   \n",
       "100013  Beautifully renovated 3 bedroom flex 4 bedroom...   \n",
       "\n",
       "            display_address  \\\n",
       "10      Metropolitan Avenue   \n",
       "10000       Columbus Avenue   \n",
       "100004          W 13 Street   \n",
       "100007     East 49th Street   \n",
       "100013    West 143rd Street   \n",
       "\n",
       "                                                 features interest_level  \\\n",
       "10                                                     []         medium   \n",
       "10000   [Doorman, Elevator, Fitness Center, Cats Allow...            low   \n",
       "100004  [Laundry In Building, Dishwasher, Hardwood Flo...           high   \n",
       "100007                          [Hardwood Floors, No Fee]            low   \n",
       "100013                                          [Pre-War]            low   \n",
       "\n",
       "        latitude  listing_id  longitude                        manager_id  \\\n",
       "10       40.7145     7211212   -73.9425  5ba989232d0489da1b5f2c45f6688adc   \n",
       "10000    40.7947     7150865   -73.9667  7533621a882f71e25173b27e3139d83d   \n",
       "100004   40.7388     6887163   -74.0018  d9039c43983f6e564b1482b273bd7b01   \n",
       "100007   40.7539     6888711   -73.9677  1067e078446a7897d2da493d2f741316   \n",
       "100013   40.8241     6934781   -73.9493  98e13ad4b495b9613cef886d79a6291f   \n",
       "\n",
       "                                                   photos  price  \\\n",
       "10      [https://photos.renthop.com/2/7211212_1ed4542e...   3000   \n",
       "10000   [https://photos.renthop.com/2/7150865_be3306c5...   5465   \n",
       "100004  [https://photos.renthop.com/2/6887163_de85c427...   2850   \n",
       "100007  [https://photos.renthop.com/2/6888711_6e660cee...   3275   \n",
       "100013  [https://photos.renthop.com/2/6934781_1fa4b41a...   3350   \n",
       "\n",
       "                 street_address  \n",
       "10      792 Metropolitan Avenue  \n",
       "10000       808 Columbus Avenue  \n",
       "100004          241 W 13 Street  \n",
       "100007     333 East 49th Street  \n",
       "100013    500 West 143rd Street  "
      ]
     },
     "execution_count": 7,
     "metadata": {},
     "output_type": "execute_result"
    }
   ],
   "source": [
    "df.head()"
   ]
  },
  {
   "cell_type": "code",
   "execution_count": 8,
   "metadata": {
    "collapsed": false
   },
   "outputs": [
    {
     "name": "stdout",
     "output_type": "stream",
     "text": [
      "(Index([u'bathrooms', u'bedrooms', u'building_id', u'created', u'description',\n",
      "       u'display_address', u'features', u'interest_level', u'latitude',\n",
      "       u'listing_id', u'longitude', u'manager_id', u'photos', u'price',\n",
      "       u'street_address'],\n",
      "      dtype='object'), 49352)\n"
     ]
    }
   ],
   "source": [
    "print(df.columns, len(df))"
   ]
  },
  {
   "cell_type": "code",
   "execution_count": 9,
   "metadata": {
    "collapsed": false
   },
   "outputs": [],
   "source": [
    "df[\"created\"] = pd.to_datetime(df[\"created\"])\n",
    "df[\"time_since_built\"] = pd.datetime.today() - df[\"created\"]\n",
    "df[\"days_since_built\"] = df[\"time_since_built\"].astype('timedelta64[D]').astype(int)\n",
    "df[\"len_descrip\"] = df[\"description\"].apply(lambda x: len(x.split(\" \")))\n",
    "df[\"len_features\"] = df[\"features\"].apply(len)\n",
    "df[\"num_photos\"] = df[\"photos\"].apply(len)"
   ]
  },
  {
   "cell_type": "code",
   "execution_count": 10,
   "metadata": {
    "collapsed": false
   },
   "outputs": [
    {
     "name": "stdout",
     "output_type": "stream",
     "text": [
      "(29758052, 267906)\n"
     ]
    }
   ],
   "source": [
    "all_descrip = list(df[\"description\"])\n",
    "all_descrip_words = ' '.join(all_descrip)\n",
    "all_feat = []\n",
    "all_feat.extend(df[\"features\"])\n",
    "# all_feat_sum = sum(all_feat,[]) this code works but is tooooo slow, the following code is way better, 10 times faster\n",
    "all_feat_sum = [item.lower() for sublist in all_feat for item in sublist] # lowercase reduced freq from 1595 to 1294\n",
    "print(len(all_descrip_words),len(all_feat_sum))"
   ]
  },
  {
   "cell_type": "code",
   "execution_count": 11,
   "metadata": {
    "collapsed": false
   },
   "outputs": [
    {
     "data": {
      "text/html": [
       "<div>\n",
       "<table border=\"1\" class=\"dataframe\">\n",
       "  <thead>\n",
       "    <tr style=\"text-align: right;\">\n",
       "      <th></th>\n",
       "      <th>features</th>\n",
       "      <th>frequencies</th>\n",
       "    </tr>\n",
       "  </thead>\n",
       "  <tbody>\n",
       "    <tr>\n",
       "      <th>0</th>\n",
       "      <td>elevator</td>\n",
       "      <td>26273</td>\n",
       "    </tr>\n",
       "    <tr>\n",
       "      <th>1</th>\n",
       "      <td>hardwood floors</td>\n",
       "      <td>23558</td>\n",
       "    </tr>\n",
       "    <tr>\n",
       "      <th>2</th>\n",
       "      <td>cats allowed</td>\n",
       "      <td>23540</td>\n",
       "    </tr>\n",
       "    <tr>\n",
       "      <th>3</th>\n",
       "      <td>dogs allowed</td>\n",
       "      <td>22035</td>\n",
       "    </tr>\n",
       "    <tr>\n",
       "      <th>4</th>\n",
       "      <td>doorman</td>\n",
       "      <td>20967</td>\n",
       "    </tr>\n",
       "  </tbody>\n",
       "</table>\n",
       "</div>"
      ],
      "text/plain": [
       "          features  frequencies\n",
       "0         elevator        26273\n",
       "1  hardwood floors        23558\n",
       "2     cats allowed        23540\n",
       "3     dogs allowed        22035\n",
       "4          doorman        20967"
      ]
     },
     "execution_count": 11,
     "metadata": {},
     "output_type": "execute_result"
    }
   ],
   "source": [
    "freq = FreqDist(all_feat_sum)\n",
    "freq_df = pd.DataFrame(freq.most_common(len(freq)))\n",
    "freq_df.columns = [['features','frequencies']]\n",
    "freq_df.head()"
   ]
  },
  {
   "cell_type": "code",
   "execution_count": 12,
   "metadata": {
    "collapsed": false
   },
   "outputs": [
    {
     "name": "stdout",
     "output_type": "stream",
     "text": [
      "([u'elevator', u'hardwood floors', u'cats allowed', u'dogs allowed', u'doorman', u'dishwasher', u'laundry in building', u'no fee', u'fitness center', u'laundry in unit'], [u'garage attached', u'close to transit', u'foyer', u'stainless steel kitchen', u'extra closet space', u'huge room', u'queen size bedrooms', u'intercom', u'pets - case by case.', u'24/7 full-time doorman concierge'], [u'** w60s wonder ~ near the park! * overszed studio steal * courtyard * free gym * elev/lndry bldg * cats ok **', u\"** oversized 2br super share * chef's kitchen * exposed brick * lndry bldg * heart of the village **\", u'mullion pane windows', u'ceiling fan', u'floor-to-ceiling windows', u'outdoor space (private roof deck)', u\"two en-suite balcony's.\", u'updated appliances', u'** oversized & underpriced!! * sprawling sunfilled studio * gourmet kitchen * gut renovated * w50s ~ near central park! **', u'one month rent free concession on a 12 month lease'])\n"
     ]
    }
   ],
   "source": [
    "high_freq_feat = list(freq_df[:int(len(freq)/3)][\"features\"])\n",
    "med_freq_feat = list(freq_df[int(len(freq)/3):int(len(freq)*2/3)][\"features\"])\n",
    "low_freq_feat = list(freq_df[int(len(freq)*2/3):][\"features\"])\n",
    "print(high_freq_feat[:10],med_freq_feat[:10],low_freq_feat[:10])"
   ]
  },
  {
   "cell_type": "code",
   "execution_count": 13,
   "metadata": {
    "collapsed": true
   },
   "outputs": [],
   "source": [
    "df[\"num_high_feat\"] = df[\"features\"].apply(lambda x: len([item for item in x if item.lower() in high_freq_feat]))\n",
    "df[\"num_med_feat\"] = df[\"features\"].apply(lambda x: len([item for item in x if item.lower() in med_freq_feat]))\n",
    "df[\"num_low_feat\"] = df[\"features\"].apply(lambda x: len([item for item in x if item.lower() in low_freq_feat]))"
   ]
  },
  {
   "cell_type": "code",
   "execution_count": 15,
   "metadata": {
    "collapsed": false
   },
   "outputs": [],
   "source": [
    "sns.barplot(x='features', y = 'frequencies', data = freq_df[:20])\n",
    "plt.xticks(rotation=60, fontsize = 10)\n",
    "plt.show()"
   ]
  },
  {
   "cell_type": "code",
   "execution_count": 16,
   "metadata": {
    "collapsed": true
   },
   "outputs": [],
   "source": [
    "bad_words = ['Pre-War','PreWar','Prewar','prewar','pre-war','pre war','Pre War']\n",
    "df[\"num_badwords\"] = df[\"features\"].apply(lambda x: len([item for item in x if item in bad_words]))"
   ]
  },
  {
   "cell_type": "code",
   "execution_count": 17,
   "metadata": {
    "collapsed": true
   },
   "outputs": [],
   "source": [
    "stop = stopwords.words('english') + list(string.punctuation)\n",
    "stop.extend(['br','br/','p','1','2','3','--',\"''\",\"'s\"])\n",
    "tokens = word_tokenize(all_descrip_words.lower())\n",
    "clean_descrip = [i for i in tokens if i not in stop]\n",
    "freq = FreqDist(clean_descrip)"
   ]
  },
  {
   "cell_type": "code",
   "execution_count": 18,
   "metadata": {
    "collapsed": false
   },
   "outputs": [
    {
     "data": {
      "text/html": [
       "<div>\n",
       "<table border=\"1\" class=\"dataframe\">\n",
       "  <thead>\n",
       "    <tr style=\"text-align: right;\">\n",
       "      <th></th>\n",
       "      <th>word</th>\n",
       "      <th>frequencies</th>\n",
       "    </tr>\n",
       "  </thead>\n",
       "  <tbody>\n",
       "    <tr>\n",
       "      <th>0</th>\n",
       "      <td>apartment</td>\n",
       "      <td>39748</td>\n",
       "    </tr>\n",
       "    <tr>\n",
       "      <th>1</th>\n",
       "      <td>website_redacted</td>\n",
       "      <td>35409</td>\n",
       "    </tr>\n",
       "    <tr>\n",
       "      <th>2</th>\n",
       "      <td>building</td>\n",
       "      <td>32898</td>\n",
       "    </tr>\n",
       "    <tr>\n",
       "      <th>3</th>\n",
       "      <td>kitchen</td>\n",
       "      <td>29907</td>\n",
       "    </tr>\n",
       "    <tr>\n",
       "      <th>4</th>\n",
       "      <td>new</td>\n",
       "      <td>27178</td>\n",
       "    </tr>\n",
       "  </tbody>\n",
       "</table>\n",
       "</div>"
      ],
      "text/plain": [
       "               word  frequencies\n",
       "0         apartment        39748\n",
       "1  website_redacted        35409\n",
       "2          building        32898\n",
       "3           kitchen        29907\n",
       "4               new        27178"
      ]
     },
     "execution_count": 18,
     "metadata": {},
     "output_type": "execute_result"
    }
   ],
   "source": [
    "n = 50\n",
    "freq_des = pd.DataFrame(freq.most_common(n))\n",
    "freq_des.columns = [['word','frequencies']]\n",
    "freq_des.head()"
   ]
  },
  {
   "cell_type": "code",
   "execution_count": 11,
   "metadata": {
    "collapsed": false
   },
   "outputs": [
    {
     "data": {
      "text/plain": [
       "(array([ 0,  1,  2,  3,  4,  5,  6,  7,  8,  9, 10, 11, 12, 13, 14, 15, 16,\n",
       "        17, 18, 19, 20, 21, 22, 23, 24, 25, 26, 27, 28, 29, 30, 31, 32, 33,\n",
       "        34, 35, 36, 37, 38, 39, 40, 41, 42, 43, 44, 45, 46, 47, 48, 49]),\n",
       " <a list of 50 Text xticklabel objects>)"
      ]
     },
     "execution_count": 11,
     "metadata": {},
     "output_type": "execute_result"
    },
    {
     "data": {
      "image/png": "[encoded data removed]",
      "text/plain": [
       "<matplotlib.figure.Figure at 0x7fae19264080>"
      ]
     },
     "metadata": {},
     "output_type": "display_data"
    }
   ],
   "source": [
    "sns.barplot(x='word', y = 'frequencies', data = freq_des)\n",
    "plt.xticks(rotation=60, fontsize = 10)"
   ]
  },
  {
   "cell_type": "code",
   "execution_count": 21,
   "metadata": {
    "collapsed": true
   },
   "outputs": [],
   "source": [
    "# set keywords according to the frequencies of all words\n",
    "key_words = ['new','appliances','renovated','large','great','spacious','beautiful','beautifully','brand','close','top','excellent','recently','luxury','clean','nice','big','kitchen','amenity','safe']\n",
    "df[\"num_keywords\"] = df[\"description\"].apply(lambda x: sum(x.count(i) for i in key_words))"
   ]
  },
  {
   "cell_type": "code",
   "execution_count": 22,
   "metadata": {
    "collapsed": false
   },
   "outputs": [],
   "source": [
    "# calculate the distance from time square and downtown world trade center\n",
    "time_square = [40.7589, -73.9851]\n",
    "world_trade_center = [40.7124, -74.0128]\n",
    "df[\"location\"] = list(zip(df[\"latitude\"],df[\"longitude\"]))\n",
    "df[\"dist_ts\"] = df[\"location\"].apply(lambda x: vincenty(time_square, x).miles)\n",
    "df[\"dist_wtc\"] = df[\"location\"].apply(lambda x: vincenty(world_trade_center, x).miles)"
   ]
  },
  {
   "cell_type": "code",
   "execution_count": 23,
   "metadata": {
    "collapsed": true
   },
   "outputs": [],
   "source": [
    "from sklearn.preprocessing import MinMaxScaler\n",
    "scaler = MinMaxScaler()"
   ]
  },
  {
   "cell_type": "code",
   "execution_count": 24,
   "metadata": {
    "collapsed": false
   },
   "outputs": [
    {
     "data": {
      "text/html": [
       "<div>\n",
       "<table border=\"1\" class=\"dataframe\">\n",
       "  <thead>\n",
       "    <tr style=\"text-align: right;\">\n",
       "      <th></th>\n",
       "      <th>bedrooms</th>\n",
       "      <th>dist_wtc</th>\n",
       "      <th>price</th>\n",
       "      <th>num_photos</th>\n",
       "      <th>len_descrip</th>\n",
       "      <th>num_keywords</th>\n",
       "      <th>num_high_feat</th>\n",
       "      <th>num_med_feat</th>\n",
       "      <th>num_low_feat</th>\n",
       "      <th>days_since_built</th>\n",
       "    </tr>\n",
       "  </thead>\n",
       "  <tbody>\n",
       "    <tr>\n",
       "      <th>0</th>\n",
       "      <td>0.375</td>\n",
       "      <td>0.000680</td>\n",
       "      <td>0.000659</td>\n",
       "      <td>0.073529</td>\n",
       "      <td>0.141141</td>\n",
       "      <td>0.038462</td>\n",
       "      <td>0.000000</td>\n",
       "      <td>0.000000</td>\n",
       "      <td>0.0</td>\n",
       "      <td>0.067416</td>\n",
       "    </tr>\n",
       "    <tr>\n",
       "      <th>1</th>\n",
       "      <td>0.250</td>\n",
       "      <td>0.001141</td>\n",
       "      <td>0.001208</td>\n",
       "      <td>0.161765</td>\n",
       "      <td>0.012012</td>\n",
       "      <td>0.000000</td>\n",
       "      <td>0.131579</td>\n",
       "      <td>0.000000</td>\n",
       "      <td>0.0</td>\n",
       "      <td>0.202247</td>\n",
       "    </tr>\n",
       "    <tr>\n",
       "      <th>2</th>\n",
       "      <td>0.125</td>\n",
       "      <td>0.000349</td>\n",
       "      <td>0.000625</td>\n",
       "      <td>0.117647</td>\n",
       "      <td>0.139640</td>\n",
       "      <td>0.192308</td>\n",
       "      <td>0.078947</td>\n",
       "      <td>0.142857</td>\n",
       "      <td>0.0</td>\n",
       "      <td>0.831461</td>\n",
       "    </tr>\n",
       "    <tr>\n",
       "      <th>3</th>\n",
       "      <td>0.125</td>\n",
       "      <td>0.000684</td>\n",
       "      <td>0.000720</td>\n",
       "      <td>0.044118</td>\n",
       "      <td>0.118619</td>\n",
       "      <td>0.115385</td>\n",
       "      <td>0.052632</td>\n",
       "      <td>0.000000</td>\n",
       "      <td>0.0</td>\n",
       "      <td>0.820225</td>\n",
       "    </tr>\n",
       "    <tr>\n",
       "      <th>4</th>\n",
       "      <td>0.500</td>\n",
       "      <td>0.001554</td>\n",
       "      <td>0.000737</td>\n",
       "      <td>0.044118</td>\n",
       "      <td>0.100601</td>\n",
       "      <td>0.153846</td>\n",
       "      <td>0.026316</td>\n",
       "      <td>0.000000</td>\n",
       "      <td>0.0</td>\n",
       "      <td>0.707865</td>\n",
       "    </tr>\n",
       "  </tbody>\n",
       "</table>\n",
       "</div>"
      ],
      "text/plain": [
       "   bedrooms  dist_wtc     price  num_photos  len_descrip  num_keywords  \\\n",
       "0     0.375  0.000680  0.000659    0.073529     0.141141      0.038462   \n",
       "1     0.250  0.001141  0.001208    0.161765     0.012012      0.000000   \n",
       "2     0.125  0.000349  0.000625    0.117647     0.139640      0.192308   \n",
       "3     0.125  0.000684  0.000720    0.044118     0.118619      0.115385   \n",
       "4     0.500  0.001554  0.000737    0.044118     0.100601      0.153846   \n",
       "\n",
       "   num_high_feat  num_med_feat  num_low_feat  days_since_built  \n",
       "0       0.000000      0.000000           0.0          0.067416  \n",
       "1       0.131579      0.000000           0.0          0.202247  \n",
       "2       0.078947      0.142857           0.0          0.831461  \n",
       "3       0.052632      0.000000           0.0          0.820225  \n",
       "4       0.026316      0.000000           0.0          0.707865  "
      ]
     },
     "execution_count": 24,
     "metadata": {},
     "output_type": "execute_result"
    }
   ],
   "source": [
    "num_feats = [\"bedrooms\",  \"dist_wtc\", \"price\",\n",
    "             \"num_photos\", \"len_descrip\", \"num_keywords\", \"num_high_feat\",\"num_med_feat\",\"num_low_feat\",\n",
    "             \"days_since_built\"] #remove \"dist_ts\",  \"len_features\", \"bathrooms\", \"num_badwords\",\n",
    "#X = df[num_feats]\n",
    "X = pd.DataFrame(scaler.fit_transform(df[num_feats]), columns=num_feats)\n",
    "y = df[\"interest_level\"]\n",
    "X.head()"
   ]
  },
  {
   "cell_type": "code",
   "execution_count": 25,
   "metadata": {
    "collapsed": false
   },
   "outputs": [
    {
     "data": {
      "text/plain": [
       "<matplotlib.axes._subplots.AxesSubplot at 0x9e4e594c>"
      ]
     },
     "execution_count": 25,
     "metadata": {},
     "output_type": "execute_result"
    }
   ],
   "source": [
    "corrmat = X.corr()\n",
    "sns.heatmap(corrmat, vmax=.8, square=True)"
   ]
  },
  {
   "cell_type": "code",
   "execution_count": 27,
   "metadata": {
    "collapsed": false
   },
   "outputs": [],
   "source": [
    "X_train, X_val, y_train, y_val = train_test_split(X, y, test_size=0.33)"
   ]
  },
  {
   "cell_type": "code",
   "execution_count": 28,
   "metadata": {
    "collapsed": false
   },
   "outputs": [
    {
     "data": {
      "text/plain": [
       "0.6406574970322263"
      ]
     },
     "execution_count": 28,
     "metadata": {},
     "output_type": "execute_result"
    }
   ],
   "source": [
    "clf = RandomForestClassifier(n_estimators=1000)\n",
    "clf.fit(X_train, y_train)\n",
    "y_val_pred = clf.predict_proba(X_val)\n",
    "log_loss(y_val, y_val_pred)"
   ]
  },
  {
   "cell_type": "code",
   "execution_count": null,
   "metadata": {
    "collapsed": true
   },
   "outputs": [],
   "source": [
    "df = pd.read_json(open(\"../RentHop/test.json\", \"r\"))\n",
    "df[\"created\"] = pd.to_datetime(df[\"created\"])\n",
    "df[\"time_since_built\"] = pd.datetime.today() - df[\"created\"]\n",
    "df[\"days_since_built\"] = df[\"time_since_built\"].astype('timedelta64[D]').astype(int)\n",
    "df[\"len_descrip\"] = df[\"description\"].apply(lambda x: len(x.split(\" \")))\n",
    "df[\"len_features\"] = df[\"features\"].apply(len)\n",
    "df[\"num_photos\"] = df[\"photos\"].apply(len)\n",
    "df[\"num_keywords\"] = df[\"description\"].apply(lambda x: sum(x.count(i) for i in key_words))\n",
    "df[\"num_badwords\"] = df[\"features\"].apply(lambda x: len([item for item in x if item in bad_words]))\n",
    "df[\"num_high_feat\"] = df[\"features\"].apply(lambda x: len([item for item in x if item.lower() in high_freq_feat]))\n",
    "df[\"num_med_feat\"] = df[\"features\"].apply(lambda x: len([item for item in x if item.lower() in med_freq_feat]))\n",
    "df[\"num_low_feat\"] = df[\"features\"].apply(lambda x: len([item for item in x if item.lower() in low_freq_feat]))\n",
    "df[\"location\"] = list(zip(df[\"latitude\"],df[\"longitude\"]))\n",
    "df[\"dist_ts\"] = df[\"location\"].apply(lambda x: vincenty(time_square, x).miles)\n",
    "df[\"dist_wtc\"] = df[\"location\"].apply(lambda x: vincenty(world_trade_center, x).miles)\n",
    "\n",
    "X = pd.DataFrame(scaler.fit_transform(df[num_feats]), columns=num_feats)\n",
    "\n",
    "y = clf.predict_proba(X)"
   ]
  },
  {
   "cell_type": "code",
   "execution_count": 35,
   "metadata": {
    "collapsed": false
   },
   "outputs": [
    {
     "data": {
      "text/plain": [
       "{u'high': 0, u'low': 1, u'medium': 2}"
      ]
     },
     "execution_count": 35,
     "metadata": {},
     "output_type": "execute_result"
    }
   ],
   "source": [
    "labels2idx = {label: i for i, label in enumerate(clf.classes_)}\n",
    "labels2idx"
   ]
  },
  {
   "cell_type": "code",
   "execution_count": null,
   "metadata": {
    "collapsed": true
   },
   "outputs": [],
   "source": [
    "sub = pd.DataFrame()\n",
    "sub[\"listing_id\"] = df[\"listing_id\"]\n",
    "for label in [\"high\", \"medium\", \"low\"]:\n",
    "    sub[label] = y[:, labels2idx[label]]\n",
    "sub.to_csv(\"submission_rf.csv\", index=False)"
   ]
  },
  {
   "cell_type": "code",
   "execution_count": null,
   "metadata": {
    "collapsed": true
   },
   "outputs": [],
   "source": [
    "from sklearn.ensemble import GradientBoostingClassifier\n",
    "gbc = GradientBoostingClassifier(n_estimators=1000)\n",
    "gbc.fit(X_train, y_train)\n",
    "y_val_pred = gbc.predict_proba(X_val)\n",
    "log_loss(y_val, y_val_pred) #0.64473894356754169 for n_estimators = 100 0.63055798833692045 for n_estimators = 1000"
   ]
  }
 ],
 "metadata": {
  "kernelspec": {
   "display_name": "Python [Root]",
   "language": "python",
   "name": "Python [Root]"
  },
  "language_info": {
   "codemirror_mode": {
    "name": "ipython",
    "version": 2
   },
   "file_extension": ".py",
   "mimetype": "text/x-python",
   "name": "python",
   "nbconvert_exporter": "python",
   "pygments_lexer": "ipython2",
   "version": "2.7.12"
  }
 },
 "nbformat": 4,
 "nbformat_minor": 2
}
